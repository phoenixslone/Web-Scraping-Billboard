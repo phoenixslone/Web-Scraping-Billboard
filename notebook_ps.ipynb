{
 "cells": [
  {
   "cell_type": "code",
   "execution_count": null,
   "id": "74487ac1",
   "metadata": {},
   "outputs": [],
   "source": [
    "import requests\n",
    "from bs4 import BeautifulSoup as BS"
   ]
  },
  {
   "cell_type": "markdown",
   "id": "3319aa0b",
   "metadata": {},
   "source": [
    "1. Start by performing a GET request on the url above and convert the response into a BeautifulSoup object.  "
   ]
  },
  {
   "cell_type": "code",
   "execution_count": null,
   "id": "8fbbbb4d",
   "metadata": {},
   "outputs": [],
   "source": [
    "URL = 'https://realpython.github.io/fake-jobs/'\n",
    "response = requests.get(URL)"
   ]
  },
  {
   "cell_type": "code",
   "execution_count": null,
   "id": "9bb79168",
   "metadata": {},
   "outputs": [],
   "source": [
    "type(response)"
   ]
  },
  {
   "cell_type": "code",
   "execution_count": null,
   "id": "4542adf1",
   "metadata": {},
   "outputs": [],
   "source": [
    "response.status_code  #looking for a 200"
   ]
  },
  {
   "cell_type": "markdown",
   "id": "88112da3",
   "metadata": {},
   "source": [
    "1a. Use the .find method to find the tag containing the first job title (\"Senior Python Developer\"). Hint: can you find a tag type and/or a class that could be helpful for extracting this information? Extract the text from this title.  "
   ]
  },
  {
   "cell_type": "code",
   "execution_count": null,
   "id": "531888b4",
   "metadata": {},
   "outputs": [],
   "source": [
    "soup = BS(response.text)\n",
    "print(soup.prettify())"
   ]
  },
  {
   "cell_type": "code",
   "execution_count": null,
   "id": "d878534e",
   "metadata": {},
   "outputs": [],
   "source": [
    "soup.find(\"h2\")"
   ]
  },
  {
   "cell_type": "code",
   "execution_count": null,
   "id": "61a1e846",
   "metadata": {},
   "outputs": [],
   "source": [
    "type(soup.find('h2'))"
   ]
  },
  {
   "cell_type": "code",
   "execution_count": null,
   "id": "8d7a6991",
   "metadata": {},
   "outputs": [],
   "source": [
    "soup.find('h2').text"
   ]
  },
  {
   "cell_type": "markdown",
   "id": "83246048",
   "metadata": {},
   "source": [
    "b. Now, use what you did for the first title, but extract the job title for all jobs on this page. Store the results in a list."
   ]
  },
  {
   "cell_type": "code",
   "execution_count": null,
   "id": "58efb8d4",
   "metadata": {},
   "outputs": [],
   "source": [
    "soup.findAll(\"h2\")[0]"
   ]
  },
  {
   "cell_type": "code",
   "execution_count": null,
   "id": "d354a098",
   "metadata": {},
   "outputs": [],
   "source": [
    "jobs = soup.findAll('h2')\n",
    "jobs"
   ]
  },
  {
   "cell_type": "markdown",
   "id": "5fd3a9ab",
   "metadata": {},
   "source": [
    "Instead of creating a list you can do this\n",
    "- job_list = [x.text for x in job_list]\n",
    "- job_list"
   ]
  },
  {
   "cell_type": "code",
   "execution_count": null,
   "id": "f1bc3003",
   "metadata": {},
   "outputs": [],
   "source": [
    "job_list = []\n",
    "for title in jobs:\n",
    "    job_list.append(title.get_text().strip())\n",
    "job_list"
   ]
  },
  {
   "cell_type": "markdown",
   "id": "44dc94bf",
   "metadata": {},
   "source": [
    "c. Finally, extract the companies, locations, and posting dates for each job. For example, the first job has a company of \"Payne, Roberts and Davis\", a location of \"Stewartbury, AA\", and a posting date of \"2021-04-08\". Ensure that the text that you extract is clean, meaning no extra spaces or other characters at the beginning or end.  "
   ]
  },
  {
   "cell_type": "markdown",
   "id": "f82fd9f3",
   "metadata": {},
   "source": [
    "- Pull company names"
   ]
  },
  {
   "cell_type": "code",
   "execution_count": null,
   "id": "06be5630",
   "metadata": {},
   "outputs": [],
   "source": [
    "soup.find(\"h3\")"
   ]
  },
  {
   "cell_type": "code",
   "execution_count": null,
   "id": "05468b47",
   "metadata": {},
   "outputs": [],
   "source": [
    "type(soup.find('h3'))"
   ]
  },
  {
   "cell_type": "code",
   "execution_count": null,
   "id": "1d5aeba9",
   "metadata": {},
   "outputs": [],
   "source": [
    "soup.find('h3').text"
   ]
  },
  {
   "cell_type": "code",
   "execution_count": null,
   "id": "7d06a0fb",
   "metadata": {},
   "outputs": [],
   "source": [
    "soup.findAll(\"h3\")[1]"
   ]
  },
  {
   "cell_type": "code",
   "execution_count": null,
   "id": "1ac14c52",
   "metadata": {},
   "outputs": [],
   "source": [
    "companies = soup.findAll('h3')\n",
    "print(type('company'))\n",
    "companies"
   ]
  },
  {
   "cell_type": "code",
   "execution_count": null,
   "id": "050f0490",
   "metadata": {},
   "outputs": [],
   "source": [
    "company_list = []\n",
    "for company in companies:\n",
    "    company_list.append(company.get_text().strip())\n",
    "company_list"
   ]
  },
  {
   "cell_type": "markdown",
   "id": "fc151412",
   "metadata": {},
   "source": [
    "- Get all locations"
   ]
  },
  {
   "cell_type": "code",
   "execution_count": null,
   "id": "83c5a183",
   "metadata": {},
   "outputs": [],
   "source": [
    "soup.findAll(\"p\")[1]"
   ]
  },
  {
   "cell_type": "code",
   "execution_count": null,
   "id": "c18ea1ce",
   "metadata": {},
   "outputs": [],
   "source": [
    "locations = soup.findAll('p', attrs = {'class' : 'location'})\n",
    "locations"
   ]
  },
  {
   "cell_type": "code",
   "execution_count": null,
   "id": "5ca12cce",
   "metadata": {},
   "outputs": [],
   "source": [
    "location_list = []\n",
    "for location in locations:\n",
    "    location_list.append(location.get_text().strip())\n",
    "location_list"
   ]
  },
  {
   "cell_type": "markdown",
   "id": "984d0f1c",
   "metadata": {},
   "source": [
    "- Get dates"
   ]
  },
  {
   "cell_type": "code",
   "execution_count": null,
   "id": "06bca2c8",
   "metadata": {},
   "outputs": [],
   "source": [
    "date = soup.findAll('time')\n",
    "print(type('time'))\n",
    "date"
   ]
  },
  {
   "cell_type": "code",
   "execution_count": null,
   "id": "359ef74c",
   "metadata": {},
   "outputs": [],
   "source": [
    "date_list = []\n",
    "for time in date:\n",
    "    date_list.append(time.get_text().strip())\n",
    "date_list"
   ]
  },
  {
   "cell_type": "markdown",
   "id": "30c14bf1",
   "metadata": {},
   "source": [
    "d. Take the lists that you have created and combine them into a pandas DataFrame. "
   ]
  },
  {
   "cell_type": "code",
   "execution_count": null,
   "id": "ad75ab40",
   "metadata": {},
   "outputs": [],
   "source": [
    "import pandas as pd"
   ]
  },
  {
   "cell_type": "code",
   "execution_count": null,
   "id": "1f762f29",
   "metadata": {},
   "outputs": [],
   "source": [
    "fakejobs = {'Title' : job_list, 'Company' : company_list, 'Location' : location_list, 'Date' : date_list}\n",
    "fakejobsdf = pd.DataFrame(data = fakejobs)"
   ]
  },
  {
   "cell_type": "code",
   "execution_count": null,
   "id": "9d5daaf9",
   "metadata": {},
   "outputs": [],
   "source": [
    "fakejobsdf"
   ]
  },
  {
   "cell_type": "markdown",
   "id": "1903d768",
   "metadata": {},
   "source": [
    "2. Next, add a column that contains the url for the \"Apply\" button. Try this in two ways.   \n",
    "    a. First, use the BeautifulSoup find_all method to extract the urls.  \n"
   ]
  },
  {
   "cell_type": "code",
   "execution_count": null,
   "id": "ceb91fe7",
   "metadata": {
    "scrolled": true
   },
   "outputs": [],
   "source": [
    "soup.find(\"a\")"
   ]
  },
  {
   "cell_type": "code",
   "execution_count": null,
   "id": "17a6903e",
   "metadata": {},
   "outputs": [],
   "source": [
    "apply_links = soup.find_all('a', string = 'Apply')\n",
    "apply_links"
   ]
  },
  {
   "cell_type": "markdown",
   "id": "dae8910c",
   "metadata": {},
   "source": [
    "- Another way to do it\n",
    "apply_links = []\n",
    "counter = 0   #shows how many times you've been in the loop\n",
    "\n",
    "for x in apply_list:\n",
    "\n",
    "    if counter%2 != 0:\n",
    "        apply_links.append(x['href'])\n",
    "    \n",
    "    counter+=1\n",
    "    \n",
    "apply_list"
   ]
  },
  {
   "cell_type": "code",
   "execution_count": null,
   "id": "d182f2ce",
   "metadata": {},
   "outputs": [],
   "source": [
    "apply_list = []\n",
    "for apply in apply_links:\n",
    "    apply_list.append(apply.get('href'))\n",
    "apply_list"
   ]
  },
  {
   "cell_type": "code",
   "execution_count": null,
   "id": "58eab900",
   "metadata": {},
   "outputs": [],
   "source": [
    "fakejobsdf['Link']=apply_list"
   ]
  },
  {
   "cell_type": "code",
   "execution_count": null,
   "id": "291a86cb",
   "metadata": {},
   "outputs": [],
   "source": [
    "fakejobsdf"
   ]
  },
  {
   "cell_type": "markdown",
   "id": "7779a623",
   "metadata": {},
   "source": [
    "b. Next, get those same urls in a different way. Examine the urls and see if you can spot the pattern of how they are constructed. Then, build the url using the elements you have already extracted. Ensure that the urls that you created match those that you extracted using BeautifulSoup. Warning: You will need to do some string cleaning and prep in constructing the urls this way. For example, look carefully at the urls for the \"Software Engineer (Python)\" job and the \"Scientist, research (maths)\" job"
   ]
  },
  {
   "cell_type": "code",
   "execution_count": null,
   "id": "e7e8fb39",
   "metadata": {},
   "outputs": [],
   "source": [
    "'https://realpython.github.io/fake-jobs/jobs/' + fakejobsdf.loc[0, 'Title'].replace(' ', '-')"
   ]
  },
  {
   "cell_type": "code",
   "execution_count": null,
   "id": "03676add",
   "metadata": {},
   "outputs": [],
   "source": [
    "for index, row in fakejobsdf.iterrows():\n",
    "    \n",
    "    temp_link = 'https://realpython.github.io/fake-jobs/jobs/' + row.Title.replace(' ', '-').replace(\"/\", \"-\").replace(\"(\", \"\").replace(\",\", \"\").replace(\")\", \"\").lower() + '-' + str(index) + '.html'\n",
    "    \n",
    "    fakejobsdf.loc[index, 'Link_2'] = temp_link"
   ]
  },
  {
   "cell_type": "code",
   "execution_count": null,
   "id": "49fc7e87",
   "metadata": {},
   "outputs": [],
   "source": [
    "fakejobsdf"
   ]
  },
  {
   "cell_type": "markdown",
   "id": "63ccdae3",
   "metadata": {},
   "source": [
    "3. Finally, we want to get the job description text for each job.  \n",
    "    a. Start by looking at the page for the first job, https://realpython.github.io/fake-jobs/jobs/senior-python-developer-0.html. Using BeautifulSoup, extract the job description paragraph.  "
   ]
  },
  {
   "cell_type": "code",
   "execution_count": null,
   "id": "8016911a",
   "metadata": {},
   "outputs": [],
   "source": [
    "new_URL = 'https://realpython.github.io/fake-jobs/jobs/senior-python-developer-0.html'\n",
    "new_response = requests.get(new_URL)"
   ]
  },
  {
   "cell_type": "code",
   "execution_count": null,
   "id": "fbb2e182",
   "metadata": {},
   "outputs": [],
   "source": [
    "new_response.status_code  #looking for a 200"
   ]
  },
  {
   "cell_type": "code",
   "execution_count": null,
   "id": "7701391e",
   "metadata": {},
   "outputs": [],
   "source": [
    "new_soup = BS(new_response.text)\n",
    "new_soup"
   ]
  },
  {
   "cell_type": "code",
   "execution_count": null,
   "id": "d2590a13",
   "metadata": {},
   "outputs": [],
   "source": [
    "new_soup.findAll('p')[1].text"
   ]
  },
  {
   "cell_type": "markdown",
   "id": "f5b23218",
   "metadata": {},
   "source": [
    "b. We want to be able to do this for all pages. Write a function which takes as input a url and returns the description text on that page. For example, if you input \"https://realpython.github.io/fake-jobs/jobs/television-floor-manager-8.html\" into your function, it should return the string \"At be than always different American address. Former claim chance prevent why measure too. Almost before some military outside baby interview. Face top individual win suddenly. Parent do ten after those scientist. Medical effort assume teacher wall. Significant his himself clearly very. Expert stop area along individual. Three own bank recognize special good along.\".  "
   ]
  },
  {
   "cell_type": "code",
   "execution_count": null,
   "id": "b744dd39",
   "metadata": {},
   "outputs": [],
   "source": [
    "for index, row in fakejobsdf.iterrows():\n",
    "    \n",
    "    print(row.Link_2)"
   ]
  },
  {
   "cell_type": "code",
   "execution_count": null,
   "id": "18c53d6f",
   "metadata": {},
   "outputs": [],
   "source": [
    "for index, row in fakejobsdf.iterrows():\n",
    "    \n",
    "    temp_resp = requests.get(row.Link_2)\n",
    "    \n",
    "    temp_soup = BS(temp_resp.text)\n",
    "    \n",
    "    temp_tags = temp_soup.findAll('p')\n",
    "    \n",
    "    fakejobsdf.loc[index, \"description\"] = temp_tags[1].text"
   ]
  },
  {
   "cell_type": "code",
   "execution_count": null,
   "id": "9442a878",
   "metadata": {},
   "outputs": [],
   "source": [
    "fakejobsdf"
   ]
  },
  {
   "cell_type": "markdown",
   "id": "9fc94bfd",
   "metadata": {},
   "source": [
    "c. Use the [.apply method](https://pandas.pydata.org/docs/reference/api/pandas.Series.apply.html) on the url column you created above to retrieve the description text for all of the jobs."
   ]
  },
  {
   "cell_type": "code",
   "execution_count": null,
   "id": "85ff0147",
   "metadata": {},
   "outputs": [],
   "source": [
    "def pull_desc(x):\n",
    "    \n",
    "    func_resp = requests.get(x)\n",
    "    \n",
    "    func_soup = BS(func_resp.text)\n",
    "    \n",
    "    func_tags = func_soup.findAll('p')\n",
    "    \n",
    "    return func_tags[1].text"
   ]
  },
  {
   "cell_type": "code",
   "execution_count": null,
   "id": "f02ad50d",
   "metadata": {},
   "outputs": [],
   "source": [
    "pull_desc(fakejobsdf.loc[0, \"Link_2\"])"
   ]
  },
  {
   "cell_type": "code",
   "execution_count": null,
   "id": "d1b3a4a9",
   "metadata": {},
   "outputs": [],
   "source": [
    "fakejobsdf['description_2'] = fakejobsdf.Link_2.apply(pull_desc)"
   ]
  },
  {
   "cell_type": "code",
   "execution_count": null,
   "id": "6edf7de3",
   "metadata": {},
   "outputs": [],
   "source": [
    "fakejobsdf"
   ]
  }
 ],
 "metadata": {
  "kernelspec": {
   "display_name": "Python 3 (ipykernel)",
   "language": "python",
   "name": "python3"
  },
  "language_info": {
   "codemirror_mode": {
    "name": "ipython",
    "version": 3
   },
   "file_extension": ".py",
   "mimetype": "text/x-python",
   "name": "python",
   "nbconvert_exporter": "python",
   "pygments_lexer": "ipython3",
   "version": "3.10.9"
  }
 },
 "nbformat": 4,
 "nbformat_minor": 5
}
